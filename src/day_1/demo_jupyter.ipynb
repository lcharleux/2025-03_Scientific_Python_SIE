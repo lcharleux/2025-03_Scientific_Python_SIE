{
 "cells": [
  {
   "cell_type": "markdown",
   "id": "d96ee012-c398-4691-8d58-73ef29855b56",
   "metadata": {},
   "source": [
    "# Une démo de Jupyter\n",
    "\n",
    "## Des maths\n",
    "\n",
    "$\\alpha = 5$ \n",
    "\n",
    "## Image externe\n",
    "\n",
    "![](https://upload.wikimedia.org/wikipedia/commons/d/d3/The_red_panda_%28Ailurus_fulgens%29_1.jpg)\n",
    "\n",
    "\n",
    "Un lien vers les [pandas roux ](https://fr.wikipedia.org/wiki/Ailurus_fulgens)"
   ]
  },
  {
   "cell_type": "markdown",
   "id": "540b0fc4-22f5-4f2d-bf9c-47666fc391cd",
   "metadata": {},
   "source": [
    "## Figures interactives"
   ]
  },
  {
   "cell_type": "code",
   "execution_count": null,
   "id": "26009b23-5ede-43c6-8784-4fe2bf536a00",
   "metadata": {},
   "outputs": [],
   "source": [
    "%matplotlib widget\n",
    "import numpy as np\n",
    "import matplotlib.pyplot as plt\n",
    "\n",
    "im = np.random.rand(50, 50)\n",
    "\n",
    "plt.figure()\n",
    "plt.imshow(im, cmap=\"jet\")\n",
    "plt.colorbar()\n",
    "plt.show()"
   ]
  },
  {
   "cell_type": "code",
   "execution_count": null,
   "id": "0956d34d-5ba1-4566-9778-a7b4df702933",
   "metadata": {},
   "outputs": [],
   "source": [
    "a = 5"
   ]
  },
  {
   "cell_type": "code",
   "execution_count": null,
   "id": "e490a6f2-5290-41a5-9375-9d3a2b3f42d0",
   "metadata": {},
   "outputs": [],
   "source": [
    "a += 1\n",
    "a"
   ]
  },
  {
   "cell_type": "markdown",
   "id": "0bc403fb-f9c5-4e4b-9bd9-addb0c3d69d1",
   "metadata": {},
   "source": [
    "## Pandas \n",
    "\n",
    "\n",
    "\n",
    "\n",
    "\n"
   ]
  },
  {
   "cell_type": "code",
   "execution_count": null,
   "id": "7c347acd-e844-4079-a6a6-35a4cc8bc6e3",
   "metadata": {},
   "outputs": [],
   "source": [
    "import pandas as pd"
   ]
  },
  {
   "cell_type": "code",
   "execution_count": null,
   "id": "b4ff224a-b20f-4acd-a65d-acc8a7bf7815",
   "metadata": {},
   "outputs": [],
   "source": [
    "data = {\"A\": np.arange(36), \"B\": np.random.randint(2, size=36)}\n",
    "df = pd.DataFrame(data)\n",
    "df.head()"
   ]
  },
  {
   "cell_type": "markdown",
   "id": "accfd346-fba6-4327-a8bd-18b7cd290e8d",
   "metadata": {},
   "source": [
    "# Sympy"
   ]
  },
  {
   "cell_type": "code",
   "execution_count": null,
   "id": "e7afedbb-a3ee-4dc5-8bdb-12851bbaefef",
   "metadata": {},
   "outputs": [],
   "source": [
    "import sympy as sp\n",
    "\n",
    "sp.init_printing(use_latex=\"mathjax\")"
   ]
  },
  {
   "cell_type": "code",
   "execution_count": null,
   "id": "710bef0f-1f38-4716-b91f-d355e0175dbe",
   "metadata": {},
   "outputs": [],
   "source": [
    "x, alpha, beta, C0 = sp.symbols(\"x alpha beta C_0\", real=True)\n",
    "x"
   ]
  },
  {
   "cell_type": "code",
   "execution_count": null,
   "id": "1a284a04-0fd6-4c40-9544-362ce68eda18",
   "metadata": {},
   "outputs": [],
   "source": [
    "expr1 = alpha * x + beta * x**2\n",
    "expr1"
   ]
  },
  {
   "cell_type": "markdown",
   "id": "d4c0b93c-008d-4ffd-ad75-e3da493a3c4d",
   "metadata": {},
   "source": [
    "Code $\\LaTeX$ correspondant:\n",
    "\n",
    "$$\n",
    "\\displaystyle \\alpha x + \\beta x^{2}\n",
    "$$"
   ]
  },
  {
   "cell_type": "code",
   "execution_count": null,
   "id": "1dd08f90-7561-4251-a834-20e49bcb3b49",
   "metadata": {},
   "outputs": [],
   "source": [
    "expr1.diff(x)  # Derivation"
   ]
  },
  {
   "cell_type": "code",
   "execution_count": null,
   "id": "0efc772c-b96b-4efa-a282-5603c783b4c8",
   "metadata": {},
   "outputs": [],
   "source": [
    "expr1.integrate(x)  # PRIMITIVATION"
   ]
  },
  {
   "cell_type": "code",
   "execution_count": null,
   "id": "60e9ddfc-42dc-4431-8596-a83014cb8211",
   "metadata": {},
   "outputs": [],
   "source": [
    "expr2 = (expr1**2 + expr1).expand().simplify()\n",
    "expr2"
   ]
  },
  {
   "cell_type": "code",
   "execution_count": null,
   "id": "de446b8d-a1cf-4b45-a7a7-f2821a92bd6c",
   "metadata": {},
   "outputs": [],
   "source": [
    "values = {alpha: 45, beta: 66}\n",
    "fexpr2 = sp.lambdify(x, expr2.subs(values), \"numpy\")\n",
    "fexpr2"
   ]
  },
  {
   "cell_type": "code",
   "execution_count": null,
   "id": "c4621df2-72ea-448c-a545-3b7be5e3c3ca",
   "metadata": {},
   "outputs": [],
   "source": [
    "plt.figure()\n",
    "xv = np.linspace(0.0, 100, 1000)\n",
    "plt.plot(xv, fexpr2(xv), label=\"Nice function\")\n",
    "plt.legend()\n",
    "plt.grid()\n",
    "plt.show()"
   ]
  },
  {
   "cell_type": "code",
   "execution_count": null,
   "id": "0790808e-a597-48a0-9993-9d8e41e30efe",
   "metadata": {},
   "outputs": [],
   "source": []
  }
 ],
 "metadata": {
  "kernelspec": {
   "display_name": "Python 3 (ipykernel)",
   "language": "python",
   "name": "python3"
  },
  "language_info": {
   "codemirror_mode": {
    "name": "ipython",
    "version": 3
   },
   "file_extension": ".py",
   "mimetype": "text/x-python",
   "name": "python",
   "nbconvert_exporter": "python",
   "pygments_lexer": "ipython3",
   "version": "3.10.13"
  }
 },
 "nbformat": 4,
 "nbformat_minor": 5
}
